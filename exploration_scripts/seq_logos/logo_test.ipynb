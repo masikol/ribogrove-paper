{
 "cells": [
  {
   "cell_type": "code",
   "execution_count": null,
   "metadata": {},
   "outputs": [],
   "source": [
    "import importlib\n",
    "\n",
    "# standard imports\n",
    "import numpy as np\n",
    "import pandas as pd\n",
    "import matplotlib.pyplot as plt\n",
    "\n",
    "# displays logos inline within the notebook;\n",
    "# remove if using a python interpreter instead\n",
    "%matplotlib inline\n",
    "\n",
    "# logomaker import\n",
    "import logomaker\n",
    "\n",
    "import create_matrix"
   ]
  },
  {
   "cell_type": "code",
   "execution_count": null,
   "metadata": {},
   "outputs": [],
   "source": [
    "logo_df = logomaker.get_example_matrix('logomaker_logo_matrix',\n",
    "                                       print_description=False)"
   ]
  },
  {
   "cell_type": "code",
   "execution_count": null,
   "metadata": {},
   "outputs": [],
   "source": [
    "logo_df"
   ]
  },
  {
   "cell_type": "code",
   "execution_count": null,
   "metadata": {},
   "outputs": [],
   "source": [
    "logo_df.__class__"
   ]
  },
  {
   "cell_type": "code",
   "execution_count": null,
   "metadata": {},
   "outputs": [],
   "source": [
    "ww_df = logomaker.get_example_matrix('ww_information_matrix',\n",
    "                                     print_description=False)"
   ]
  },
  {
   "cell_type": "code",
   "execution_count": null,
   "metadata": {},
   "outputs": [],
   "source": [
    "ww_df"
   ]
  },
  {
   "cell_type": "code",
   "execution_count": null,
   "metadata": {},
   "outputs": [],
   "source": []
  },
  {
   "cell_type": "code",
   "execution_count": null,
   "metadata": {},
   "outputs": [],
   "source": [
    "importlib.reload(create_matrix)"
   ]
  },
  {
   "cell_type": "code",
   "execution_count": null,
   "metadata": {},
   "outputs": [],
   "source": [
    "my_df = create_matrix.create_matrix('test_seqs_2.fasta')"
   ]
  },
  {
   "cell_type": "code",
   "execution_count": null,
   "metadata": {
    "scrolled": true
   },
   "outputs": [],
   "source": [
    "my_df"
   ]
  },
  {
   "cell_type": "code",
   "execution_count": null,
   "metadata": {},
   "outputs": [],
   "source": [
    "# create Logo object\n",
    "my_logo = logomaker.Logo(my_df,\n",
    "                         font_name='Stencil Std',\n",
    "                         color_scheme='colorblind_safe',\n",
    "                         vpad=.1,\n",
    "                         width=.8)\n",
    "\n",
    "# style using Logo methods\n",
    "# my_logo.style_xticks(anchor=0, spacing=1, rotation=45)\n",
    "my_logo.highlight_position(p=2, color='gold', alpha=.5)\n",
    "# my_logo.highlight_position(p=26, color='gold', alpha=.5)\n",
    "\n",
    "my_df.index = np.arange(-5, 0, 1)\n",
    "\n",
    "# # style using Axes methods\n",
    "my_logo.ax.set_ylabel('information (bits)')\n",
    "my_logo.ax.set_xticks(my_df.index)\n",
    "# my_logo.ax.set_xlim([-1, len(my_df)])"
   ]
  },
  {
   "cell_type": "code",
   "execution_count": null,
   "metadata": {},
   "outputs": [],
   "source": []
  },
  {
   "cell_type": "code",
   "execution_count": null,
   "metadata": {},
   "outputs": [],
   "source": [
    "np.arange(-5, -1, 1)"
   ]
  }
 ],
 "metadata": {
  "kernelspec": {
   "display_name": "Python 3",
   "language": "python",
   "name": "python3"
  },
  "language_info": {
   "codemirror_mode": {
    "name": "ipython",
    "version": 3
   },
   "file_extension": ".py",
   "mimetype": "text/x-python",
   "name": "python",
   "nbconvert_exporter": "python",
   "pygments_lexer": "ipython3",
   "version": "3.8.6"
  }
 },
 "nbformat": 4,
 "nbformat_minor": 4
}
